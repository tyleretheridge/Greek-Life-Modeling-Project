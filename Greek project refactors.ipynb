{
 "cells": [
  {
   "cell_type": "code",
   "execution_count": null,
   "metadata": {},
   "outputs": [],
   "source": [
    "def feature_engineering(X):\n",
    "    # Avoid warnings from changes to original data structure\n",
    "    df = X.copy()\n",
    "    # Replace \"Data not available\" with np.Nan\n",
    "    df = df.replace({\"Data not available\" : np.NaN})\n",
    "    # Convert 'Tuition of High School' to float\n",
    "    df['Tuition of High School'] = df['Tuition of High School'].str.replace(\",\",\"\").astype(float)\n",
    "    # Convert 'Tuition of High School' to float\n",
    "    df['Free and reduced percentage of  High School'] = df['Free and reduced percentage of  High School'].astype(float)\n",
    "    # Consolidate Sorority/Fraternity and map to binary classification\n",
    "    df['greek'] = df['Greek Council'].map({'None':'No', 'Sorority':'Yes', 'Fraternity':'Yes'})\n",
    "    # Fix errors in 'Sports Team', Reengineer to universal\n",
    "    df['Sports Team'] = df['Sports Team'].str.replace('Fooball', 'Football')\n",
    "    # Fix errors in 'Sports Team', Reengineer to universal\n",
    "    df['sports_consolidated'] = df['Sports Team']\n",
    "    df['sports_consolidated'] = df['sports_consolidated'].str.lstrip(\"Men's \")\n",
    "    df['sports_consolidated'] = df['sports_consolidated'].str.lstrip(\"Women's \")\n",
    "    df['sports_consolidated'] = df['sports_consolidated'].str.replace('restling', 'Wrestling')\n",
    "    \n",
    "    return df"
   ]
  },
  {
   "cell_type": "code",
   "execution_count": null,
   "metadata": {},
   "outputs": [],
   "source": [
    "column_names = ['greek_council', 'greek_organization', 'city', \n",
    "                'state', 'country','latitude', 'longitude', \n",
    "                'free_lunch_percent','public_private', 'domestic_school',\n",
    "                'boarding', 'religion','school_gender', 'tuition','sports_team',\n",
    "                'scholarship']         \n",
    "df = pd.read_csv('/home/tyler/Downloads/duke_greek.csv', header=0, names=column_names)"
   ]
  },
  {
   "cell_type": "code",
   "execution_count": null,
   "metadata": {},
   "outputs": [],
   "source": [
    "def feature_engineering(X):\n",
    "    # Avoid warnings from changes to original data structure\n",
    "    df = X.copy()\n",
    "    # Replace \"Data not available\" with np.Nan\n",
    "    df = df.replace({\"Data not available\" : np.NaN})\n",
    "    # Convert 'tuition' to float\n",
    "    df['tuition'] = df['tuition'].str.replace(\",\",\"\").astype(float)\n",
    "    # Convert 'free_lunch_percent' to float\n",
    "    df['free_lunch_percent'] = df['free_lunch_percent'].astype(float)\n",
    "    # Consolidate Sorority/Fraternity and map to binary classification\n",
    "    df['greek'] = df['greek_council'].map({'None':'No', 'Sorority':'Yes', 'Fraternity':'Yes'})\n",
    "    # Fix errors in 'Sports Team', Reengineer to universal\n",
    "    df['sports_team'] = df['sports_team'].str.replace('Fooball', 'Football')\n",
    "    # Fix errors in 'Sports Team', Reengineer to universal\n",
    "    df['sports'] = df['sports_team']\n",
    "    df['sports'] = df['sports'].str.lstrip(\"Men's \")\n",
    "    df['sports'] = df['sports'].str.lstrip(\"Women's \")\n",
    "    df['sports'] = df['sports'].str.replace('restling', 'Wrestling')\n",
    "    \n",
    "    return df"
   ]
  },
  {
   "cell_type": "code",
   "execution_count": null,
   "metadata": {},
   "outputs": [],
   "source": [
    "def val_metrics(pipeline, X_val, y_val):\n",
    "    \"\"\"Calculates validation accuracy and ROC AUC scores, \n",
    "    then prints\"\"\"\n",
    "    \n",
    "    # Get validation accuracy\n",
    "    val_accuracy = pipeline.score(X_val, y_val)\n",
    "    # Get list of predicted probabilities\n",
    "    y_pred_proba = pipeline.predict_proba(X_val)[:,-1]\n",
    "    # Calculate ROC AUC Score\n",
    "    val_roc = roc_auc_score(y_val, y_pred_proba)\n",
    "    \n",
    "    print('Validation Accuracy Score: ', val_accuracy)\n",
    "    print('Validation ROC AUC: ', val_roc)    \n",
    "    "
   ]
  },
  {
   "cell_type": "code",
   "execution_count": null,
   "metadata": {},
   "outputs": [],
   "source": [
    "def test_metrics(model_name, pipeline, X_test, y_test):\n",
    "    \"\"\"Calculates test accuracy, then prints.\n",
    "    model_name is a string.\"\"\"\n",
    "    \n",
    "    # Calculate y_pred for test set\n",
    "    y_pred = pipeline.predict(X_test)\n",
    "    # Calculate accuracy\n",
    "    acc = accuracy_score(y_test, y_pred)\n",
    "    # Print\n",
    "    print(model_name, +'test accuracy: ', acc)\n",
    "    \n",
    "    \n",
    "    "
   ]
  }
 ],
 "metadata": {
  "kernelspec": {
   "display_name": "Python 3",
   "language": "python",
   "name": "python3"
  },
  "language_info": {
   "codemirror_mode": {
    "name": "ipython",
    "version": 3
   },
   "file_extension": ".py",
   "mimetype": "text/x-python",
   "name": "python",
   "nbconvert_exporter": "python",
   "pygments_lexer": "ipython3",
   "version": "3.7.7"
  }
 },
 "nbformat": 4,
 "nbformat_minor": 4
}
